{
 "cells": [
  {
   "cell_type": "code",
   "execution_count": 15,
   "metadata": {},
   "outputs": [],
   "source": [
    "import requests\n",
    "import json\n",
    "import pandas as pd"
   ]
  },
  {
   "cell_type": "code",
   "execution_count": 7,
   "metadata": {},
   "outputs": [],
   "source": [
    "pg_url = 'http://www.dnd5eapi.co/api/monsters'\n",
    "r = requests.get(pg_url)"
   ]
  },
  {
   "cell_type": "code",
   "execution_count": 13,
   "metadata": {},
   "outputs": [],
   "source": [
    "monster_dict = json.loads(r.text)['results']\n",
    "df_mons = pd.DataFrame(monster_dict)"
   ]
  },
  {
   "cell_type": "code",
   "execution_count": 30,
   "metadata": {},
   "outputs": [],
   "source": [
    "def get_monster(monster_name):\n",
    "    monst_url = df_mons.loc[df_mons.name==monster_name,'url'].values[0]\n",
    "    r = requests.get(monst_url)\n",
    "    return json.loads(r.text)"
   ]
  },
  {
   "cell_type": "code",
   "execution_count": 46,
   "metadata": {},
   "outputs": [],
   "source": [
    "def abil_mod(abil_score:int):\n",
    "    return abil_score//2-5"
   ]
  },
  {
   "cell_type": "code",
   "execution_count": 50,
   "metadata": {
    "scrolled": true
   },
   "outputs": [],
   "source": [
    "monst_dct = get_monster('Thug')"
   ]
  },
  {
   "cell_type": "code",
   "execution_count": 160,
   "metadata": {
    "scrolled": true
   },
   "outputs": [
    {
     "data": {
      "text/plain": [
       "{'_id': '5bce91465b7768e792018255',\n",
       " 'index': 178,\n",
       " 'name': 'Invisible Stalker',\n",
       " 'size': 'Medium',\n",
       " 'type': 'elemental',\n",
       " 'subtype': '',\n",
       " 'alignment': 'neutral',\n",
       " 'armor_class': 14,\n",
       " 'hit_points': 104,\n",
       " 'hit_dice': '16d8',\n",
       " 'speed': '50 ft., fly 50 ft. (hover)',\n",
       " 'strength': 16,\n",
       " 'dexterity': 19,\n",
       " 'constitution': 14,\n",
       " 'intelligence': 10,\n",
       " 'wisdom': 15,\n",
       " 'charisma': 11,\n",
       " 'perception': 8,\n",
       " 'stealth': 10,\n",
       " 'damage_vulnerabilities': '',\n",
       " 'damage_resistances': 'bludgeoning, piercing, and slashing from nonmagical weapons',\n",
       " 'damage_immunities': 'poison',\n",
       " 'condition_immunities': 'exhaustion, grappled, paralyzed, petrified, poisoned, prone, restrained, unconscious',\n",
       " 'senses': 'darkvision 60 ft., passive Perception 18',\n",
       " 'languages': \"Auran, understands Common but doesn't speak it\",\n",
       " 'challenge_rating': 6,\n",
       " 'special_abilities': [{'attack_bonus': 0,\n",
       "   'desc': 'The stalker is invisible.',\n",
       "   'name': 'Invisibility'},\n",
       "  {'attack_bonus': 0,\n",
       "   'desc': 'The stalker is given a quarry by its summoner. The stalker knows the direction and distance to its quarry as long as the two of them are on the same plane of existence. The stalker also knows the location of its summoner.',\n",
       "   'name': 'Faultless Tracker'}],\n",
       " 'actions': [{'attack_bonus': 0,\n",
       "   'desc': 'The stalker makes two slam attacks.',\n",
       "   'name': 'Multiattack'},\n",
       "  {'damage_bonus': 3,\n",
       "   'damage_dice': '2d6',\n",
       "   'attack_bonus': 6,\n",
       "   'desc': 'Melee Weapon Attack: +6 to hit, reach 5 ft., one target. Hit: 10 (2d6 + 3) bludgeoning damage.',\n",
       "   'name': 'Slam'}],\n",
       " 'url': 'http://www.dnd5eapi.co/api/monsters/178'}"
      ]
     },
     "execution_count": 160,
     "metadata": {},
     "output_type": "execute_result"
    }
   ],
   "source": [
    "get_monster('Invisible Stalker')"
   ]
  },
  {
   "cell_type": "code",
   "execution_count": 187,
   "metadata": {
    "scrolled": true
   },
   "outputs": [
    {
     "name": "stdout",
     "output_type": "stream",
     "text": [
      "\n",
      "\\begin{adjustbox}{minipage=0.45\\textwidth, margin=\\fboxsep, bgimage=../images/texture2.pdf}\n",
      "    \\noindent\\makebox[\\textwidth][c]{%\n",
      "        \\begin{minipage}[t][10.5in][t]{0.9\\textwidth}\n",
      "            \\vspace{4em}\n",
      "            % DISPLAY NAME\n",
      "            \\centering{\n",
      "            \\rotatebox[origin=c]{180}{\n",
      "                \\centering{\\Large{\\textbf{LICH}}}\n",
      "            }}\\\\[3em]\n",
      "        \\rule{\\textwidth}{0.5pt}\\\\[2em]\n",
      "        \\rule{\\textwidth}{0.5pt}\\\\[3em]\n",
      "\n",
      "        % NAME\n",
      "        \\centering{\\Large{\\textbf{LICH}}}\\\\\n",
      "        \\vspace{0.1in}\n",
      "\n",
      "        % AC/HP/SPEED\n",
      "        \\begin{tabularx}{\\textwidth}{^Z|*U|*U@{}}  \n",
      "            \\rowcolor{black} \n",
      "            \\rowstyle{\\bfseries}\n",
      "            \\textcolor{white}{AC} & \\textcolor{white}{HP} & \\textcolor{white}{SPEED} \\\\\n",
      "            \\rowcolor{white} \n",
      "            \\rowstyle{\\huge} \n",
      "            \\vspace{0.2in}17 \\vspace{0.2in}& 135 & 30 ft. \\\\\n",
      "            \\rowcolor{white} \n",
      "             & $(18d8 + 54)$ &   \\\\\n",
      "            \\rowcolor{black} \n",
      "            \\multicolumn{3}{c@{}}{\\textcolor{white}{\\textbf{ACTIONS}}}\n",
      "        \\end{tabularx}\\\\\t\n",
      "        % ACTIONS\n",
      "        \\begin{minipage}[c]{0.2\\textwidth}\n",
      "            \\vspace{0.1in} \n",
      "            \\circled{\\huge $+6$}\n",
      "        \\end{minipage}\n",
      "        \\hspace{0.01\\textwidth}\n",
      "        \\begin{minipage}[t]{0.7\\textwidth}\n",
      "            \\vspace{-0.2in} \n",
      "            {\\huge$\\textcolor{red}{\\mathbf{2d6+3}}^{10}\\textcolor{red}{\\times 1}$}\\\\[0.5em]\n",
      "            slam ($5'$, b)\n",
      "    %\t\t\\\\[0.5em]\n",
      "    %\t\t{\\large \\textbf{OR}} \\\\[0.5em]\n",
      "    %\t\t{\\huge$\\textcolor{red}{\\mathbf{2d6+3}}^{10}\\textcolor{red}{\\times 1}$}\\\\[0.5em]\n",
      "    %\t\tslam ($5'$, b)\n",
      "        \\end{minipage}\n",
      "        \\vspace{0.025in}\\\\\n",
      "        \\rule{\\textwidth}{1pt}\\\\\n",
      "        \\vspace{0.025in}\n",
      "        % STAT BLOCK\n",
      "        \\begin{minipage}[t]{0.2\\textwidth}\n",
      "            {\\large\n",
      "            \\textcolor{red}{\\textbf{STR}}\\\\[0.1em]\n",
      "            $\\mathbf{0}$\\,\\,$^{11}$ \\\\[0.1em]\n",
      "            \\textcolor{red}{\\textbf{DEX}}\\\\[0.1em]\n",
      "            $\\mathbf{3}$\\,\\,$^{16}$ \\\\[0.1em]\n",
      "            \\textcolor{red}{\\textbf{CON}}\\\\[0.1em]\n",
      "            $\\mathbf{3}$\\,\\,$^{16}$ \\\\[0.1em]\n",
      "            \\textcolor{red}{\\textbf{INT}}\\\\[0.1em]\n",
      "            $\\mathbf{5}$\\,\\,$^{20}$ \\\\[0.1em]\n",
      "            \\textcolor{red}{\\textbf{WIS}}\\\\[0.1em]\n",
      "            $\\mathbf{2}$\\,\\,$^{14}$ \\\\[0.1em]\n",
      "            \\textcolor{red}{\\textbf{CHA}}\\\\[0.1em]\n",
      "            $\\mathbf{3}$\\,\\,$^{16}$ \\\\[0.1em]\n",
      "            }\n",
      "        \\end{minipage}\n",
      "        \\hspace{-0.1in}\n",
      "        \\vline\n",
      "        \\hspace{0.1in}\n",
      "        % ABILITIES\n",
      "        \\begin{minipage}[t]{0.7\\textwidth}\n",
      "            \\textcolor{red}{\\textbf{Legendary Resistance (3/Day)}} If the lich fails a saving throw, it can choose to succeed instead. \\\\[0.2em]\\textcolor{red}{\\textbf{Rejuvenation}} If it has a phylactery, a destroyed lich gains a new body in 1d10 days, regaining all its hit points and becoming active again. The new body appears within 5 feet of the phylactery. \\\\[0.2em]\\textcolor{red}{\\textbf{Spellcasting}} The lich is an 18th-level spellcaster. Its spellcasting ability is Intelligence (spell save DC 20, +12 to hit with spell attacks). The lich has the following wizard spells prepared:\n",
      "\n",
      "• Cantrips (at will): mage hand, prestidigitation, ray of frost\n",
      "• 1st level (4 slots): detect magic, magic missile, shield, thunderwave\n",
      "• 2nd level (3 slots): detect thoughts, invisibility, Melf's acid arrow, mirror image\n",
      "• 3rd level (3 slots): animate dead, counterspell, dispel magic, fireball\n",
      "• 4th level (3 slots): blight, dimension door\n",
      "• 5th level (3 slots): cloudkill, scrying\n",
      "• 6th level (1 slot): disintegrate, globe of invulnerability\n",
      "• 7th level (1 slot): finger of death, plane shift\n",
      "• 8th level (1 slot): dominate monster, power word stun\n",
      "• 9th level (1 slot): power word kill \\\\[0.2em]\\textcolor{red}{\\textbf{Turn Resistance}} The lich has advantage on saving throws against any effect that turns undead. \\\\[0.2em]\n",
      "            %\\textcolor{red}{\\textbf{Invisibility}} The stalker is invisible. \\\\[0.2em]\n",
      "            %\\textcolor{red}{\\textbf{Faultless Tracker.}} The stalker is given a quarry by its summoner. The stalker knows the direction and distance to its quarry as long as the two of them are on the same plane of existence. The stalker also knows the location of its summoner.\n",
      "        \\end{minipage}\n",
      "        \\vspace{0.025in}\\\\\n",
      "        \\rule{\\textwidth}{1pt}\\\\\n",
      "        \\vspace{-0.08in}\n",
      "        % PROPERTIES\n",
      "        \\begin{flushleft}\n",
      "            {\\large\\textbf{MEDIUM UNDEAD, AEA}}\\\\\n",
      "            \\textcolor{red}{\\textbf{SKILLS}} Arcana +18, History +12, Insight +9, Perception +9 \\\\\n",
      "            \\textcolor{red}{\\textbf{SAVES}} Constitution +16, Intelligence +20, Wisdom +14 \\\\\n",
      "            \\textcolor{red}{\\textbf{RESIST}} cold, lightning, necrotic\\\\\n",
      "            \\textcolor{red}{\\textbf{IMMUNE}} poison; bludgeoning, piercing, and slashing from nonmagical weapons, charmed, exhaustion, frightened, paralyzed, poisoned\\\\\n",
      "            \\textcolor{red}{\\textbf{VULN}} None\\\\      \n",
      "            \\textcolor{red}{\\textbf{SENSE}} truesight 120 ft., passive Perception 19\\\\\n",
      "            \\textcolor{red}{\\textbf{LANG}} Common plus up to five other languages\\\\\n",
      "            \\textcolor{red}{\\textbf{CR}}  21\\\\\n",
      "        \\end{flushleft}\n",
      "        \\end{minipage}\n",
      "    }\n",
      "\\end{adjustbox}                     \n",
      "    \n",
      "[\n",
      "    {\n",
      "        \"damage_dice\": \"3d6\",\n",
      "        \"attack_bonus\": 12,\n",
      "        \"desc\": \"Melee Spell Attack: +12 to hit, reach 5 ft., one creature. Hit: 10 (3d6) cold damage. The target must succeed on a DC 18 Constitution saving throw or be paralyzed for 1 minute. The target can repeat the saving throw at the end of each of its turns, ending the effect on itself on a success.\",\n",
      "        \"name\": \"Paralyzing Touch\"\n",
      "    }\n",
      "]\n"
     ]
    }
   ],
   "source": [
    "monst_name = 'Lich'\n",
    "print(create_template(monst_name))\n",
    "print(json.dumps(get_monster(monst_name)['actions'], indent=4))"
   ]
  },
  {
   "cell_type": "code",
   "execution_count": 132,
   "metadata": {},
   "outputs": [
    {
     "data": {
      "text/plain": [
       "[{'attack_bonus': 0,\n",
       "  'desc': 'The thug makes two melee attacks.',\n",
       "  'name': 'Multiattack'},\n",
       " {'damage_bonus': 2,\n",
       "  'damage_dice': '1d6',\n",
       "  'attack_bonus': 4,\n",
       "  'desc': 'Melee Weapon Attack: +4 to hit, reach 5 ft., one creature. Hit: 5 (1d6 + 2) bludgeoning damage.',\n",
       "  'name': 'Mace'},\n",
       " {'damage_dice': '1d10',\n",
       "  'attack_bonus': 2,\n",
       "  'desc': 'Ranged Weapon Attack: +2 to hit, range 100/400 ft., one target. Hit: 5 (1d10) piercing damage.',\n",
       "  'name': 'Heavy Crossbow'}]"
      ]
     },
     "execution_count": 132,
     "metadata": {},
     "output_type": "execute_result"
    }
   ],
   "source": [
    "act_list = monst_dct['actions']\n",
    "act_list"
   ]
  },
  {
   "cell_type": "code",
   "execution_count": 166,
   "metadata": {},
   "outputs": [
    {
     "data": {
      "text/plain": [
       "['1', '6']"
      ]
     },
     "execution_count": 166,
     "metadata": {},
     "output_type": "execute_result"
    }
   ],
   "source": [
    "act['damage_dice'].split('d')"
   ]
  },
  {
   "cell_type": "code",
   "execution_count": 171,
   "metadata": {},
   "outputs": [
    {
     "data": {
      "text/plain": [
       "5"
      ]
     },
     "execution_count": 171,
     "metadata": {},
     "output_type": "execute_result"
    }
   ],
   "source": [
    "dice_dmg = act['damage_dice'].split('d')\n",
    "(int(float(dice_dmg[0]) * ((float(dice_dmg[1]) +1)/2) + float(act['damage_bonus'])))"
   ]
  },
  {
   "cell_type": "code",
   "execution_count": 165,
   "metadata": {},
   "outputs": [],
   "source": [
    "act_dict = {}\n",
    "for act in act_list:\n",
    "    if act['attack_bonus'] != 0:\n",
    "        break\n",
    "        if act['damage_bonus'] not in act_dict:\n",
    "            act['damage_bonus'] = {}\n",
    "        dice_dmg = act['damage_dice'].split('d')\n",
    "        dice_dmg = int(float(dice_dmg[0]) * ((float(dice_dmg[1]) +1)/2) + float(act['damage_bonus']))\n",
    "        act['damage_bonus'][act['name']] = {'dice': act['damage_dice'] + '+' + act['damage_bonus'],\n",
    "                                            'damage': dice_dmg,\n",
    "                                            'multiplier': 1}\n",
    "        \n",
    "        "
   ]
  },
  {
   "cell_type": "code",
   "execution_count": null,
   "metadata": {},
   "outputs": [],
   "source": [
    "def extract_actions(act_list: list):\n",
    "    \n",
    "        \\begin{{minipage}}[c]{{0.2\\textwidth}}\n",
    "                \\vspace{{0.1in}} \n",
    "                \\circled{{\\huge $+6$}}\n",
    "            \\end{{minipage}}\n",
    "            \\hspace{{0.01\\textwidth}}\n",
    "            \\begin{{minipage}}[t]{{0.7\\textwidth}}\n",
    "                \\vspace{{-0.2in}} \n",
    "                {{\\huge$\\textcolor{{red}}{{\\mathbf{{2d6+3}}}}^{{10}}\\textcolor{{red}}{{\\times 1}}$}}\\\\[0.5em]\n",
    "                slam ($5'$, b)\n",
    "        %\t\t\\\\[0.5em]\n",
    "        %\t\t{{\\large \\textbf{{OR}}}} \\\\[0.5em]\n",
    "        %\t\t{{\\huge$\\textcolor{{red}}{{\\mathbf{{2d6+3}}}}^{{10}}\\textcolor{{red}}{{\\times 1}}$}}\\\\[0.5em]\n",
    "        %\t\tslam ($5'$, b)\n",
    "            \\end{{minipage}}"
   ]
  },
  {
   "cell_type": "code",
   "execution_count": 134,
   "metadata": {},
   "outputs": [],
   "source": [
    "def prod_str(str_val: str):\n",
    "    if str_val != '':\n",
    "        return str_val\n",
    "    else:\n",
    "        return 'None'"
   ]
  },
  {
   "cell_type": "code",
   "execution_count": 140,
   "metadata": {},
   "outputs": [],
   "source": [
    "def prod_immun_str(dmg_immun: str, cond_immun:str):\n",
    "    if dmg_immun == '' and cond_immun == '':\n",
    "        return 'None'\n",
    "    elif dmg_immun != '' and cond_immun != '':\n",
    "        return dmg_immun + ', ' + cond_immun\n",
    "    elif dmg_immun != '':\n",
    "        return dmg_immun\n",
    "    else:\n",
    "        return cond_immun"
   ]
  },
  {
   "cell_type": "code",
   "execution_count": 144,
   "metadata": {},
   "outputs": [],
   "source": [
    "def prod_abil_str(monst_dct: dict, skills: list, str_prefix: str = '', str_suffix: str = ''):\n",
    "    ret_str = ''\n",
    "    for skl in skills:\n",
    "        skl_name = str_prefix + skl + str_suffix\n",
    "        if skl_name in monst_dct:\n",
    "            ret_str += skl.title() + ' +' + str(monst_dct[skl]) + ', '\n",
    "    if len(ret_str) > 0:\n",
    "        return ret_str[:-2]\n",
    "    else:\n",
    "        return 'None'"
   ]
  },
  {
   "cell_type": "code",
   "execution_count": 155,
   "metadata": {},
   "outputs": [],
   "source": [
    "def prod_spec_abil(monst_dct: dict):\n",
    "    spec_abil_str = ''\n",
    "    for action in monst_dct['actions']:\n",
    "        if action['name'] == 'Multiattack':\n",
    "            spec_abil_str += fr\"\\textcolor{{red}}{{\\textbf{{{action['name']}}}}} {action['desc']} \\\\[0.2em]\"\n",
    "    if 'special_abilities' in monst_dct:\n",
    "        for specabil in monst_dct['special_abilities']:\n",
    "            spec_abil_str += fr\"\\textcolor{{red}}{{\\textbf{{{specabil['name']}}}}} {specabil['desc']} \\\\[0.2em]\"\n",
    "    if 'reactions' in monst_dct:\n",
    "        for react in monst_dct['reactions']:\n",
    "            spec_abil_str += fr\"\\textcolor{{red}}{{\\textbf{{{react['name']}}}}} (\\textit{{Reaction}}) {react['desc']} \\\\[0.2em]\"\n",
    "    if spec_abil_str == '':\n",
    "        return 'None'\n",
    "    else:\n",
    "        return spec_abil_str"
   ]
  },
  {
   "cell_type": "code",
   "execution_count": 184,
   "metadata": {},
   "outputs": [],
   "source": [
    "def create_template(monst_name: str):\n",
    "    monst_dct = get_monster(monst_name)\n",
    "    monst_speed = monst_dct['speed'].split(',')\n",
    "    if len(monst_speed) == 1:\n",
    "        monst_speed.append('')\n",
    "    skill_list = ['athletics', 'acrobatics', 'sleight_of_hand', 'stealth', 'arcana', 'history', 'investigation', 'nature', 'religion', 'animal_handling', 'insight', 'medicine', 'perception', 'survival', 'deception', 'intimidation', 'performance', 'persuasion']\n",
    "    abil_list = ['strength', 'dexterity', 'constitution', 'intelligence', 'wisdom', 'charisma']\n",
    "    skill_str = prod_abil_str(monst_dct, skill_list)\n",
    "    save_str = prod_abil_str(monst_dct, abil_list, str_suffix='_save')\n",
    "    resist_str = prod_str(monst_dct['damage_resistances'])\n",
    "    vuln_str = prod_str(monst_dct['damage_vulnerabilities'])\n",
    "    immune_str = prod_immun_str(monst_dct['damage_immunities'], monst_dct['condition_immunities'])\n",
    "    spec_abil_str = prod_spec_abil(monst_dct)\n",
    "#     spec_abil_str = ''\n",
    "#     for action in monst_dct['actions']:\n",
    "#         if action['name'] == 'Multiattack':\n",
    "#             spec_abil_str += fr\"\\textcolor{{red}}{{\\textbf{{{action['name']}}}}} {action['desc']} \\\\[0.2em]\"\n",
    "#     if 'special_abilities' in monst_dct:\n",
    "#         for specabil in monst_dct['special_abilities']:\n",
    "#             spec_abil_str += fr\"\\textcolor{{red}}{{\\textbf{{{specabil['name']}}}}} {specabil['desc']} \\\\[0.2em]\"\n",
    "#     if spec_abil_str == '':\n",
    "#         spec_abil_str = 'None'\n",
    "    align_str = ''.join(x[0] for x in monst_dct['alignment'].split(' ')).upper()\n",
    "    monst_template =fr\"\"\"\n",
    "\\begin{{adjustbox}}{{minipage=0.45\\textwidth, margin=\\fboxsep, bgimage=../images/texture2.pdf}}\n",
    "    \\noindent\\makebox[\\textwidth][c]{{%\n",
    "        \\begin{{minipage}}[t][10.5in][t]{{0.9\\textwidth}}\n",
    "            \\vspace{{4em}}\n",
    "            % DISPLAY NAME\n",
    "            \\centering{{\n",
    "            \\rotatebox[origin=c]{{180}}{{\n",
    "                \\centering{{\\Large{{\\textbf{{{monst_dct['name'].upper()}}}}}}}\n",
    "            }}}}\\\\[3em]\n",
    "        \\rule{{\\textwidth}}{{0.5pt}}\\\\[2em]\n",
    "        \\rule{{\\textwidth}}{{0.5pt}}\\\\[3em]\n",
    "\n",
    "        % NAME\n",
    "        \\centering{{\\Large{{\\textbf{{{monst_dct['name'].upper()}}}}}}}\\\\\n",
    "        \\vspace{{0.1in}}\n",
    "\n",
    "        % AC/HP/SPEED\n",
    "        \\begin{{tabularx}}{{\\textwidth}}{{^Z|*U|*U@{{}}}}  \n",
    "            \\rowcolor{{black}} \n",
    "            \\rowstyle{{\\bfseries}}\n",
    "            \\textcolor{{white}}{{AC}} & \\textcolor{{white}}{{HP}} & \\textcolor{{white}}{{SPEED}} \\\\\n",
    "            \\rowcolor{{white}} \n",
    "            \\rowstyle{{\\huge}} \n",
    "            \\vspace{{0.2in}}{monst_dct['armor_class']} \\vspace{{0.2in}}& {monst_dct['hit_points']} & {monst_speed[0]} \\\\\n",
    "            \\rowcolor{{white}} \n",
    "             & $({monst_dct['hit_dice']} + {abil_mod(monst_dct['constitution'])*int(monst_dct['hit_dice'].split('d')[0])})$ & {monst_speed[-1]}  \\\\\n",
    "            \\rowcolor{{black}} \n",
    "            \\multicolumn{{3}}{{c@{{}}}}{{\\textcolor{{white}}{{\\textbf{{ACTIONS}}}}}}\n",
    "        \\end{{tabularx}}\\\\\t\n",
    "        % ACTIONS\n",
    "        \\begin{{minipage}}[c]{{0.2\\textwidth}}\n",
    "            \\vspace{{0.1in}} \n",
    "            \\circled{{\\huge $+6$}}\n",
    "        \\end{{minipage}}\n",
    "        \\hspace{{0.01\\textwidth}}\n",
    "        \\begin{{minipage}}[t]{{0.7\\textwidth}}\n",
    "            \\vspace{{-0.2in}} \n",
    "            {{\\huge$\\textcolor{{red}}{{\\mathbf{{2d6+3}}}}^{{10}}\\textcolor{{red}}{{\\times 1}}$}}\\\\[0.5em]\n",
    "            slam ($5'$, b)\n",
    "    %\t\t\\\\[0.5em]\n",
    "    %\t\t{{\\large \\textbf{{OR}}}} \\\\[0.5em]\n",
    "    %\t\t{{\\huge$\\textcolor{{red}}{{\\mathbf{{2d6+3}}}}^{{10}}\\textcolor{{red}}{{\\times 1}}$}}\\\\[0.5em]\n",
    "    %\t\tslam ($5'$, b)\n",
    "        \\end{{minipage}}\n",
    "        \\vspace{{0.025in}}\\\\\n",
    "        \\rule{{\\textwidth}}{{1pt}}\\\\\n",
    "        \\vspace{{0.025in}}\n",
    "        % STAT BLOCK\n",
    "        \\begin{{minipage}}[t]{{0.2\\textwidth}}\n",
    "            {{\\large\n",
    "            \\textcolor{{red}}{{\\textbf{{STR}}}}\\\\[0.1em]\n",
    "            $\\mathbf{{{abil_mod(monst_dct['strength'])}}}$\\,\\,$^{{{monst_dct['strength']}}}$ \\\\[0.1em]\n",
    "            \\textcolor{{red}}{{\\textbf{{DEX}}}}\\\\[0.1em]\n",
    "            $\\mathbf{{{abil_mod(monst_dct['dexterity'])}}}$\\,\\,$^{{{monst_dct['dexterity']}}}$ \\\\[0.1em]\n",
    "            \\textcolor{{red}}{{\\textbf{{CON}}}}\\\\[0.1em]\n",
    "            $\\mathbf{{{abil_mod(monst_dct['constitution'])}}}$\\,\\,$^{{{monst_dct['constitution']}}}$ \\\\[0.1em]\n",
    "            \\textcolor{{red}}{{\\textbf{{INT}}}}\\\\[0.1em]\n",
    "            $\\mathbf{{{abil_mod(monst_dct['intelligence'])}}}$\\,\\,$^{{{monst_dct['intelligence']}}}$ \\\\[0.1em]\n",
    "            \\textcolor{{red}}{{\\textbf{{WIS}}}}\\\\[0.1em]\n",
    "            $\\mathbf{{{abil_mod(monst_dct['wisdom'])}}}$\\,\\,$^{{{monst_dct['wisdom']}}}$ \\\\[0.1em]\n",
    "            \\textcolor{{red}}{{\\textbf{{CHA}}}}\\\\[0.1em]\n",
    "            $\\mathbf{{{abil_mod(monst_dct['charisma'])}}}$\\,\\,$^{{{monst_dct['charisma']}}}$ \\\\[0.1em]\n",
    "            }}\n",
    "        \\end{{minipage}}\n",
    "        \\hspace{{-0.1in}}\n",
    "        \\vline\n",
    "        \\hspace{{0.1in}}\n",
    "        % ABILITIES\n",
    "        \\begin{{minipage}}[t]{{0.7\\textwidth}}\n",
    "            {spec_abil_str}\n",
    "            %\\textcolor{{red}}{{\\textbf{{Invisibility}}}} The stalker is invisible. \\\\[0.2em]\n",
    "            %\\textcolor{{red}}{{\\textbf{{Faultless Tracker.}}}} The stalker is given a quarry by its summoner. The stalker knows the direction and distance to its quarry as long as the two of them are on the same plane of existence. The stalker also knows the location of its summoner.\n",
    "        \\end{{minipage}}\n",
    "        \\vspace{{0.025in}}\\\\\n",
    "        \\rule{{\\textwidth}}{{1pt}}\\\\\n",
    "        \\vspace{{-0.08in}}\n",
    "        % PROPERTIES\n",
    "        \\begin{{flushleft}}\n",
    "            {{\\large\\textbf{{{monst_dct['size'].upper()} {monst_dct['type'].upper()}, {align_str}}}}}\\\\\n",
    "            \\textcolor{{red}}{{\\textbf{{SKILLS}}}} {skill_str} \\\\\n",
    "            \\textcolor{{red}}{{\\textbf{{SAVES}}}} {save_str} \\\\\n",
    "            \\textcolor{{red}}{{\\textbf{{RESIST}}}} {resist_str}\\\\\n",
    "            \\textcolor{{red}}{{\\textbf{{IMMUNE}}}} {immune_str}\\\\\n",
    "            \\textcolor{{red}}{{\\textbf{{VULN}}}} {vuln_str}\\\\      \n",
    "            \\textcolor{{red}}{{\\textbf{{SENSE}}}} {monst_dct['senses']}\\\\\n",
    "            \\textcolor{{red}}{{\\textbf{{LANG}}}} {monst_dct['languages']}\\\\\n",
    "            \\textcolor{{red}}{{\\textbf{{CR}}}}  {monst_dct['challenge_rating']}\\\\\n",
    "        \\end{{flushleft}}\n",
    "        \\end{{minipage}}\n",
    "    }}\n",
    "\\end{{adjustbox}}                     \n",
    "    \"\"\" \n",
    "    return monst_template"
   ]
  },
  {
   "cell_type": "code",
   "execution_count": 101,
   "metadata": {},
   "outputs": [
    {
     "data": {
      "text/plain": [
       "[{'attack_bonus': 0,\n",
       "  'desc': \"The thug has advantage on an attack roll against a creature if at least one of the thug's allies is within 5 ft. of the creature and the ally isn't incapacitated.\",\n",
       "  'name': 'Pack Tactics'}]"
      ]
     },
     "execution_count": 101,
     "metadata": {},
     "output_type": "execute_result"
    }
   ],
   "source": [
    "monst_dct['special_abilities']"
   ]
  },
  {
   "cell_type": "code",
   "execution_count": 31,
   "metadata": {},
   "outputs": [
    {
     "data": {
      "text/plain": [
       "{'_id': '5bce91465b7768e7920182be',\n",
       " 'index': 283,\n",
       " 'name': 'Thug',\n",
       " 'size': 'Medium',\n",
       " 'type': 'humanoid',\n",
       " 'subtype': 'any race',\n",
       " 'alignment': 'any non-good alignment',\n",
       " 'armor_class': 11,\n",
       " 'hit_points': 32,\n",
       " 'hit_dice': '5d8',\n",
       " 'speed': '30 ft.',\n",
       " 'strength': 15,\n",
       " 'dexterity': 11,\n",
       " 'constitution': 14,\n",
       " 'intelligence': 10,\n",
       " 'wisdom': 10,\n",
       " 'charisma': 11,\n",
       " 'intimidation': 2,\n",
       " 'damage_vulnerabilities': '',\n",
       " 'damage_resistances': '',\n",
       " 'damage_immunities': '',\n",
       " 'condition_immunities': '',\n",
       " 'senses': 'passive Perception 10',\n",
       " 'languages': 'any one language (usually Common)',\n",
       " 'challenge_rating': 0.5,\n",
       " 'special_abilities': [{'attack_bonus': 0,\n",
       "   'desc': \"The thug has advantage on an attack roll against a creature if at least one of the thug's allies is within 5 ft. of the creature and the ally isn't incapacitated.\",\n",
       "   'name': 'Pack Tactics'}],\n",
       " 'actions': [{'attack_bonus': 0,\n",
       "   'desc': 'The thug makes two melee attacks.',\n",
       "   'name': 'Multiattack'},\n",
       "  {'damage_bonus': 2,\n",
       "   'damage_dice': '1d6',\n",
       "   'attack_bonus': 4,\n",
       "   'desc': 'Melee Weapon Attack: +4 to hit, reach 5 ft., one creature. Hit: 5 (1d6 + 2) bludgeoning damage.',\n",
       "   'name': 'Mace'},\n",
       "  {'damage_dice': '1d10',\n",
       "   'attack_bonus': 2,\n",
       "   'desc': 'Ranged Weapon Attack: +2 to hit, range 100/400 ft., one target. Hit: 5 (1d10) piercing damage.',\n",
       "   'name': 'Heavy Crossbow'}],\n",
       " 'url': 'http://www.dnd5eapi.co/api/monsters/283'}"
      ]
     },
     "execution_count": 31,
     "metadata": {},
     "output_type": "execute_result"
    }
   ],
   "source": [
    "tmp_dct = get_monster('Thug')\n",
    "tmp_dct"
   ]
  },
  {
   "cell_type": "code",
   "execution_count": 28,
   "metadata": {
    "scrolled": true
   },
   "outputs": [
    {
     "data": {
      "text/plain": [
       "{'_id': '5bce91465b7768e7920182be',\n",
       " 'index': 283,\n",
       " 'name': 'Thug',\n",
       " 'size': 'Medium',\n",
       " 'type': 'humanoid',\n",
       " 'subtype': 'any race',\n",
       " 'alignment': 'any non-good alignment',\n",
       " 'armor_class': 11,\n",
       " 'hit_points': 32,\n",
       " 'hit_dice': '5d8',\n",
       " 'speed': '30 ft.',\n",
       " 'strength': 15,\n",
       " 'dexterity': 11,\n",
       " 'constitution': 14,\n",
       " 'intelligence': 10,\n",
       " 'wisdom': 10,\n",
       " 'charisma': 11,\n",
       " 'intimidation': 2,\n",
       " 'damage_vulnerabilities': '',\n",
       " 'damage_resistances': '',\n",
       " 'damage_immunities': '',\n",
       " 'condition_immunities': '',\n",
       " 'senses': 'passive Perception 10',\n",
       " 'languages': 'any one language (usually Common)',\n",
       " 'challenge_rating': 0.5,\n",
       " 'special_abilities': [{'attack_bonus': 0,\n",
       "   'desc': \"The thug has advantage on an attack roll against a creature if at least one of the thug's allies is within 5 ft. of the creature and the ally isn't incapacitated.\",\n",
       "   'name': 'Pack Tactics'}],\n",
       " 'actions': [{'attack_bonus': 0,\n",
       "   'desc': 'The thug makes two melee attacks.',\n",
       "   'name': 'Multiattack'},\n",
       "  {'damage_bonus': 2,\n",
       "   'damage_dice': '1d6',\n",
       "   'attack_bonus': 4,\n",
       "   'desc': 'Melee Weapon Attack: +4 to hit, reach 5 ft., one creature. Hit: 5 (1d6 + 2) bludgeoning damage.',\n",
       "   'name': 'Mace'},\n",
       "  {'damage_dice': '1d10',\n",
       "   'attack_bonus': 2,\n",
       "   'desc': 'Ranged Weapon Attack: +2 to hit, range 100/400 ft., one target. Hit: 5 (1d10) piercing damage.',\n",
       "   'name': 'Heavy Crossbow'}],\n",
       " 'url': 'http://www.dnd5eapi.co/api/monsters/283'}"
      ]
     },
     "execution_count": 28,
     "metadata": {},
     "output_type": "execute_result"
    }
   ],
   "source": [
    "monst_url = df_mons.loc[df_mons.name=='Thug','url'].values[0]\n",
    "r = requests.get(monst_url)\n",
    "json.loads(r.text)"
   ]
  },
  {
   "cell_type": "code",
   "execution_count": 2,
   "metadata": {},
   "outputs": [],
   "source": [
    "min_latex = (r\"\\documentclass{article}\"\n",
    "             r\"\\begin{document}\"\n",
    "             r\"Hello, world!\"\n",
    "             r\"\\end{document}\")"
   ]
  },
  {
   "cell_type": "code",
   "execution_count": 5,
   "metadata": {},
   "outputs": [
    {
     "ename": "RuntimeError",
     "evalue": "No available builder could be instantiated. Please make sure LaTeX is installed.",
     "output_type": "error",
     "traceback": [
      "\u001b[0;31m---------------------------------------------------------------------------\u001b[0m",
      "\u001b[0;31mRuntimeError\u001b[0m                              Traceback (most recent call last)",
      "\u001b[0;32m<ipython-input-5-9228a2bc9f19>\u001b[0m in \u001b[0;36m<module>\u001b[0;34m\u001b[0m\n\u001b[0;32m----> 1\u001b[0;31m \u001b[0mpdf\u001b[0m \u001b[0;34m=\u001b[0m \u001b[0mbuild_pdf\u001b[0m\u001b[0;34m(\u001b[0m\u001b[0mmin_latex\u001b[0m\u001b[0;34m)\u001b[0m\u001b[0;34m\u001b[0m\u001b[0;34m\u001b[0m\u001b[0m\n\u001b[0m\u001b[1;32m      2\u001b[0m \u001b[0mpdf\u001b[0m\u001b[0;34m.\u001b[0m\u001b[0msave_to\u001b[0m\u001b[0;34m(\u001b[0m\u001b[0;34m'ex1.pdf'\u001b[0m\u001b[0;34m)\u001b[0m\u001b[0;34m\u001b[0m\u001b[0;34m\u001b[0m\u001b[0m\n",
      "\u001b[0;32m/data/msnow/miniconda3/envs/latex/lib/python3.7/site-packages/latex/build.py\u001b[0m in \u001b[0;36mbuild_pdf\u001b[0;34m(source, texinputs, builder)\u001b[0m\n\u001b[1;32m    232\u001b[0m         \u001b[0;32mreturn\u001b[0m \u001b[0mbuilder\u001b[0m\u001b[0;34m.\u001b[0m\u001b[0mbuild_pdf\u001b[0m\u001b[0;34m(\u001b[0m\u001b[0msource\u001b[0m\u001b[0;34m,\u001b[0m \u001b[0mtexinputs\u001b[0m\u001b[0;34m)\u001b[0m\u001b[0;34m\u001b[0m\u001b[0;34m\u001b[0m\u001b[0m\n\u001b[1;32m    233\u001b[0m     \u001b[0;32melse\u001b[0m\u001b[0;34m:\u001b[0m\u001b[0;34m\u001b[0m\u001b[0;34m\u001b[0m\u001b[0m\n\u001b[0;32m--> 234\u001b[0;31m         raise RuntimeError('No available builder could be instantiated. '\n\u001b[0m\u001b[1;32m    235\u001b[0m                            'Please make sure LaTeX is installed.')\n",
      "\u001b[0;31mRuntimeError\u001b[0m: No available builder could be instantiated. Please make sure LaTeX is installed."
     ]
    }
   ],
   "source": [
    "pdf = build_pdf(min_latex)\n",
    "pdf.save_to('ex1.pdf')"
   ]
  },
  {
   "cell_type": "code",
   "execution_count": null,
   "metadata": {},
   "outputs": [],
   "source": [
    "abil_scor_dict = {1: -5,\n",
    "                  2:-4,\n",
    "                  3:-4,\n",
    "                  4:-3,\n",
    "                  5:-3,\n",
    "                  6:-2,\n",
    "                  7:-2,\n",
    "                  8:-1,\n",
    "                  9:-1,\n",
    "                  10:0,\n",
    "                  11:0,\n",
    "                  12:1,\n",
    "                  13:1,\n",
    "                  14:2,\n",
    "                  15:2,\n",
    "                  16:3,\n",
    "                  17:3,\n",
    "                  18:4,\n",
    "                  19:4,\n",
    "                  20:5,\n",
    "                  21:5,\n",
    "                  22:6,\n",
    "                  23:6,\n",
    "                  24:7,\n",
    "                  25:7,\n",
    "                  26:8,\n",
    "                  27:8,\n",
    "                  28:9\n",
    "                  3:-4}"
   ]
  }
 ],
 "metadata": {
  "kernelspec": {
   "display_name": "Python 3",
   "language": "python",
   "name": "python3"
  },
  "language_info": {
   "codemirror_mode": {
    "name": "ipython",
    "version": 3
   },
   "file_extension": ".py",
   "mimetype": "text/x-python",
   "name": "python",
   "nbconvert_exporter": "python",
   "pygments_lexer": "ipython3",
   "version": "3.7.3"
  }
 },
 "nbformat": 4,
 "nbformat_minor": 2
}
